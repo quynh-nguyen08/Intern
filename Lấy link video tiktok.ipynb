{
 "cells": [
  {
   "cell_type": "code",
   "execution_count": 1,
   "metadata": {},
   "outputs": [
    {
     "name": "stdout",
     "output_type": "stream",
     "text": [
      "Requirement already satisfied: bs4 in c:\\users\\nngoc\\appdata\\local\\programs\\python\\python311\\lib\\site-packages (0.0.2)\n",
      "Requirement already satisfied: beautifulsoup4 in c:\\users\\nngoc\\appdata\\local\\programs\\python\\python311\\lib\\site-packages (from bs4) (4.12.3)\n",
      "Requirement already satisfied: soupsieve>1.2 in c:\\users\\nngoc\\appdata\\local\\programs\\python\\python311\\lib\\site-packages (from beautifulsoup4->bs4) (2.6)\n"
     ]
    }
   ],
   "source": [
    "!pip install bs4"
   ]
  },
  {
   "cell_type": "code",
   "execution_count": 3,
   "metadata": {},
   "outputs": [],
   "source": [
    "import requests\n",
    "from bs4 import BeautifulSoup"
   ]
  },
  {
   "cell_type": "code",
   "execution_count": 4,
   "metadata": {},
   "outputs": [],
   "source": [
    "\n",
    "# Hàm lấy dữ liệu HTML từ một URL TikTok\n",
    "def get_html(url):\n",
    "    headers = {\n",
    "        'User-Agent': 'Mozilla/5.0 (Windows NT 10.0; Win64; x64) AppleWebKit/537.36 (KHTML, like Gecko) Chrome/91.0.4472.124 Safari/537.36'\n",
    "    }\n",
    "    response = requests.get(url, headers=headers)\n",
    "    return response.text"
   ]
  },
  {
   "cell_type": "code",
   "execution_count": 8,
   "metadata": {},
   "outputs": [],
   "source": [
    "# Hàm parse HTML để lấy các liên kết video\n",
    "def get_video_links(username):\n",
    "    base_url = f'https://www.tiktok.com/@ngocyakult'\n",
    "    html = get_html(base_url)\n",
    "    \n",
    "    soup = BeautifulSoup(html, 'html.parser')\n",
    "    \n",
    "    # Tìm tất cả các video\n",
    "    video_links = []\n",
    "    for script in soup.find_all('script'):\n",
    "        if 'window.__INIT_PROPS__' in str(script):\n",
    "            json_data = str(script)\n",
    "            start = json_data.find('\"ItemList\"')\n",
    "            end = json_data.find(',\"items\":[\"')\n",
    "            if start != -1 and end != -1:\n",
    "                video_data = json_data[start:end]\n",
    "                links = video_data.split('\",\"')\n",
    "                video_links.extend(links)\n",
    "\n",
    "    return video_links"
   ]
  },
  {
   "cell_type": "code",
   "execution_count": 9,
   "metadata": {},
   "outputs": [],
   "source": [
    "# Lấy các video từ kênh TikTok cụ thể\n",
    "username = 'ngocyakult'  # Đổi tên kênh tại đây\n",
    "video_links = get_video_links(username)"
   ]
  },
  {
   "cell_type": "code",
   "execution_count": 10,
   "metadata": {},
   "outputs": [],
   "source": [
    "# In ra các liên kết video\n",
    "for link in video_links:\n",
    "    print(f'https://www.tiktok.com/@ngocyakult/video/{link}')"
   ]
  }
 ],
 "metadata": {
  "kernelspec": {
   "display_name": "Python 3",
   "language": "python",
   "name": "python3"
  },
  "language_info": {
   "codemirror_mode": {
    "name": "ipython",
    "version": 3
   },
   "file_extension": ".py",
   "mimetype": "text/x-python",
   "name": "python",
   "nbconvert_exporter": "python",
   "pygments_lexer": "ipython3",
   "version": "3.11.9"
  }
 },
 "nbformat": 4,
 "nbformat_minor": 2
}
